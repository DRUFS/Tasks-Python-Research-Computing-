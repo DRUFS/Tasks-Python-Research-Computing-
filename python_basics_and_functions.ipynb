{
 "cells": [
  {
   "cell_type": "markdown",
   "metadata": {},
   "source": [
    "# Assignment: Basic Python\n",
    "\n",
    "\n",
    "```{admonition} Learning Goals\n",
    ":class: tip\n",
    "\n",
    "This assignment will verify that you have the following skills:\n",
    "- Create lists and dictionaries\n",
    "- Iterate through lists, tuples, and dictionaries\n",
    "- Index sequences (e.g. lists and tuples)\n",
    "- Define functions\n",
    "- Use optional keyword arguments in functions\n",
    "```"
   ]
  },
  {
   "cell_type": "markdown",
   "metadata": {},
   "source": [
    "## Part I: Lists and Loops\n",
    "\n",
    "In this problem, we will explore the basic data structures and flow controls of Python by _manually creating data structures_.\n",
    "\n",
    "\n",
    "```{warning}\n",
    "Pluto is [not a planet any more](https://www.loc.gov/everyday-mysteries/item/why-is-pluto-no-longer-a-planet/).\n",
    "```"
   ]
  },
  {
   "cell_type": "markdown",
   "metadata": {},
   "source": [
    "### 1) Create a list with the names of every planet in the solar system (in order)"
   ]
  },
  {
   "cell_type": "code",
   "execution_count": 2,
   "metadata": {},
   "outputs": [
    {
     "name": "stdout",
     "output_type": "stream",
     "text": [
      "['Mercury', 'Venus', 'Earth', 'Mars', 'Jupiter', 'Saturn', 'Uranus', 'Neptune', 'Not Pluto :(']\n"
     ]
    }
   ],
   "source": [
    "#theSolarSystem = [\"Mercury\", \"Venus\", \"Earth\", \"Mars\", \"Jupiter\", \"Saturn\", \"Uranus\", \"Neptune\", \"NOT Pluto :( \"] # Distance from Sun ordered list\n",
    "\n",
    "# I know this was a long way, but I just wanted to practice different things\n",
    "\n",
    "# Planter Variables\n",
    "one = \"mercury\"\n",
    "two = \"venus\"\n",
    "three = \"earth\"\n",
    "four = \"mars\"\n",
    "five = \"jupiter\"\n",
    "six = \"saturn\"\n",
    "seven = \"uranus\"\n",
    "eight = \"neptune\"\n",
    "goodbye = \"not pluto :(\"\n",
    "\n",
    "theSolarSystem = [] # Empty list for planets\n",
    "\n",
    "# Different list functions to add planets\n",
    "theSolarSystem.insert(0, one)\n",
    "theSolarSystem.insert(1, two)\n",
    "theSolarSystem.insert(2, three)\n",
    "theSolarSystem.insert(3, four)\n",
    "theSolarSystem.append(five)\n",
    "theSolarSystem.append(six)\n",
    "theSolarSystem.append(seven)\n",
    "theSolarSystem.append(eight)\n",
    "theSolarSystem.append(goodbye)\n",
    "\n",
    "planets = [p.title() for p in theSolarSystem] # Capitalize first letters and iterate\n",
    "\n",
    "print(planets)  "
   ]
  },
  {
   "cell_type": "markdown",
   "metadata": {
    "tags": []
   },
   "source": [
    "### 2) Have Python tell you how many planets there are by examining your list"
   ]
  },
  {
   "cell_type": "code",
   "execution_count": 3,
   "metadata": {},
   "outputs": [
    {
     "name": "stdout",
     "output_type": "stream",
     "text": [
      "There are a total of 8 planets in the Solar System.\n"
     ]
    }
   ],
   "source": [
    "system = len(planets[: -1]) # Excluded Pluto in my list from length function check\n",
    "\n",
    "# Converted int to str so it prints\n",
    "numPlan = \"There are a total of \" + str(system) + \" planets in the Solar System.\"\n",
    "\n",
    "print(numPlan)"
   ]
  },
  {
   "cell_type": "markdown",
   "metadata": {},
   "source": [
    "### 3) Use slicing to display the first four planets (the rocky planets)"
   ]
  },
  {
   "cell_type": "code",
   "execution_count": 9,
   "metadata": {
    "tags": []
   },
   "outputs": [
    {
     "name": "stdout",
     "output_type": "stream",
     "text": [
      "The rocky planets are: Mercury, Venus, Earth, Mars\n"
     ]
    }
   ],
   "source": [
    "slicedRocks = slice(0,4,1) # slcied first index to last & step\n",
    "\n",
    "rocks = planets[slicedRocks] # new sliced list\n",
    "\n",
    "print(\"The rocky planets are: \" + (', '.join(rocks))) # cleaned up list\n",
    "\n",
    "#print(\"The rocky planets are: \" + str(rocks).lstrip('[').rstrip(']'))"
   ]
  },
  {
   "cell_type": "markdown",
   "metadata": {},
   "source": [
    "### 4) Iterate through your planets and print the planet name only if it has an `s` at the end"
   ]
  },
  {
   "cell_type": "code",
   "execution_count": 10,
   "metadata": {},
   "outputs": [
    {
     "name": "stdout",
     "output_type": "stream",
     "text": [
      "The planets that end with 's' are: Venus, Mars, Uranus\n"
     ]
    }
   ],
   "source": [
    "real = planets[: -1] # Excluding Pluto from the list I made\n",
    "        \n",
    "planet_S = [] # new empty list to add the \"s\" planets\n",
    "\n",
    "for p in real: # iteration\n",
    "    \n",
    "        if p[-1 :] == \"s\": # checking last letter\n",
    "            #print(p)\n",
    "            #pl = []\n",
    "            planet_S.append(p) # adding planets to new list\n",
    "         #else:\n",
    "             #planets.remove(p)\n",
    "\n",
    "print(\"The planets that end with 's' are: \" + str(', '.join(planet_S))) # making list return cleanly "
   ]
  },
  {
   "cell_type": "markdown",
   "metadata": {},
   "source": [
    "## Part II: Dictionaries\n",
    "\n",
    "### 1) Now create a dictionary that maps each planet name to its mass\n",
    "\n",
    "You can use values from this [NASA fact sheet](https://nssdc.gsfc.nasa.gov/planetary/factsheet/).\n",
    "You can use whatever units you want, but be consistent."
   ]
  },
  {
   "cell_type": "code",
   "execution_count": 11,
   "metadata": {},
   "outputs": [
    {
     "name": "stdout",
     "output_type": "stream",
     "text": [
      "'Mercury': 0.33, 'Venus': 4.87, 'Earth': 5.97, 'Mars': 0.642, 'Jupiter': 1898, 'Saturn': 568, 'Uranus': 86.8, 'Neptune': 102, 'Not Pluto :(': 0.0146\n"
     ]
    }
   ],
   "source": [
    "solarMass = [0.330, 4.87, 5.97, 0.642, 1898, 568, 86.8, 102, 0.0146]  # NASA mass list\n",
    "\n",
    "planetToMass = dict(zip(planets, solarMass)) # variable with dictionary zip function of two lists\n",
    "\n",
    "print(str(planetToMass).lstrip('{').rstrip('}')) #pacticing cleaning output"
   ]
  },
  {
   "cell_type": "markdown",
   "metadata": {},
   "source": [
    "### 2) Use your dictionary to look up Earth's mass"
   ]
  },
  {
   "cell_type": "code",
   "execution_count": 12,
   "metadata": {},
   "outputs": [
    {
     "name": "stdout",
     "output_type": "stream",
     "text": [
      "Search a planet's mass:\n"
     ]
    },
    {
     "name": "stdin",
     "output_type": "stream",
     "text": [
      " earth\n"
     ]
    },
    {
     "name": "stdout",
     "output_type": "stream",
     "text": [
      "The mass of Earth is 5.97 x 10^24 kg\n"
     ]
    }
   ],
   "source": [
    "print(\"Search a planet's mass:\")\n",
    "\n",
    "c = input().capitalize() # practicing user input\n",
    "\n",
    "earthCheck = planetToMass[c] # calling back to key & value from previous\n",
    "\n",
    "print(\"The mass of \" + c + \" is \" + str(earthCheck) + \" x 10^24 kg\")"
   ]
  },
  {
   "cell_type": "markdown",
   "metadata": {
    "tags": []
   },
   "source": [
    "### 3) Loop through the data and create a list of planets whose mast is greater than 100 x 10^24 kg \n",
    "\n",
    "Display your result"
   ]
  },
  {
   "cell_type": "code",
   "execution_count": 13,
   "metadata": {},
   "outputs": [
    {
     "name": "stdout",
     "output_type": "stream",
     "text": [
      "Planets with mass > 100 x 10^24 kg: \n",
      "Jupiter :  1898  x 10^24 kg\n",
      "Saturn :  568  x 10^24 kg\n",
      "Neptune :  102  x 10^24 kg\n"
     ]
    }
   ],
   "source": [
    "print(\"Planets with mass > 100 x 10^24 kg: \")\n",
    "\n",
    "for key, val in planetToMass.items():   # for statement to check dictionary values\n",
    "    \n",
    "    if val >= 100:  # conditional to check 100+       \n",
    "        \n",
    "        print(key, \": \", val,\" x 10^24 kg\")"
   ]
  },
  {
   "cell_type": "markdown",
   "metadata": {
    "tags": []
   },
   "source": [
    "### 4) Now add pluto to your dictionary\n"
   ]
  },
  {
   "cell_type": "code",
   "execution_count": 14,
   "metadata": {
    "tags": []
   },
   "outputs": [
    {
     "name": "stdout",
     "output_type": "stream",
     "text": [
      "{'Mercury': 0.33, 'Venus': 4.87, 'Earth': 5.97, 'Mars': 0.642, 'Jupiter': 1898, 'Saturn': 568, 'Uranus': 86.8, 'Neptune': 102, 'Pluto': 0.0146}\n"
     ]
    }
   ],
   "source": [
    "# I redid this list without Pluto so I could add it\n",
    "\n",
    "newPlanets = [\"Mercury\", \"Venus\", \"Earth\", \"Mars\", \"Jupiter\", \"Saturn\", \"Uranus\", \"Neptune\"]\n",
    "\n",
    "newMass = [0.330, 4.87, 5.97, 0.642, 1898, 568, 86.8, 102]\n",
    "\n",
    "xMass = dict(zip(newPlanets, newMass))\n",
    "\n",
    "xMass[\"Pluto\"] = 0.0146  # Adding pluto key & value to dictionary\n",
    "\n",
    "print(xMass)"
   ]
  },
  {
   "cell_type": "markdown",
   "metadata": {},
   "source": [
    "## Part III: Functions\n",
    "\n",
    "### 1. Write a function to convert temperature from kelvin to celsius\n",
    "\n",
    "and celsius to kelvin"
   ]
  },
  {
   "cell_type": "code",
   "execution_count": 3,
   "metadata": {},
   "outputs": [
    {
     "name": "stdout",
     "output_type": "stream",
     "text": [
      "Converting Kelvins\n"
     ]
    },
    {
     "name": "stdin",
     "output_type": "stream",
     "text": [
      "Temp:  6901\n"
     ]
    },
    {
     "name": "stdout",
     "output_type": "stream",
     "text": [
      "Converted Temp: \n"
     ]
    },
    {
     "data": {
      "text/plain": [
       "6627.85"
      ]
     },
     "execution_count": 3,
     "metadata": {},
     "output_type": "execute_result"
    }
   ],
   "source": [
    "def kelvin2Celcius(): # \n",
    "    \n",
    "    \"\"\" Kelvin to Celcius \"\"\"\n",
    "    \n",
    "    print(\"Converting Kelvins\") \n",
    "    \n",
    "    n = input(f\"Temp: \") # I wanted to practice with more inputs\n",
    "    \n",
    "    #k = round((int(n) - 273.15), 9)\n",
    "    c = round((float(n) - 273.15), 3) # Rounding so # isnt too long\n",
    "    \n",
    "    #print(float(n), \"kelvin is\", c, \"celcius\")\n",
    "    \n",
    "    #print(\"Celcius:\")\n",
    "    print(\"Converted Temp: \")\n",
    "\n",
    "    return (c)\n",
    "\n",
    "kelvin2Celcius()"
   ]
  },
  {
   "cell_type": "code",
   "execution_count": 2,
   "metadata": {
    "tags": []
   },
   "outputs": [
    {
     "name": "stdout",
     "output_type": "stream",
     "text": [
      "Converting Celcius\n"
     ]
    },
    {
     "name": "stdin",
     "output_type": "stream",
     "text": [
      "Temp:  6901\n"
     ]
    },
    {
     "name": "stdout",
     "output_type": "stream",
     "text": [
      "Converted Temp: \n"
     ]
    },
    {
     "data": {
      "text/plain": [
       "7174.15"
      ]
     },
     "execution_count": 2,
     "metadata": {},
     "output_type": "execute_result"
    }
   ],
   "source": [
    "def celcius2Kelvin(): # \n",
    "    \n",
    "    \"\"\" Celcius to Kelvin \"\"\"\n",
    "    \n",
    "    print(\"Converting Celcius\")\n",
    "    \n",
    "    n = input(f\"Temp: \") \n",
    "    \n",
    "    k = round((float(n) + 273.15), 3)\n",
    "    \n",
    "    # print(float(n), \"celcius is\", k, \"kelvin\")\n",
    "    \n",
    "    #print(\"Kelvin: \")\n",
    "    print(\"Converted Temp: \")\n",
    "    return (k)\n",
    "\n",
    "celcius2Kelvin()"
   ]
  },
  {
   "cell_type": "markdown",
   "metadata": {
    "tags": []
   },
   "source": [
    "### 2. Write a function to convert temperature to fahrenheit\n",
    "\n",
    "Include an optional keyword argument to specify whether the input is in  celcius or kelvin.\n",
    "Call your previously defined functions if necessary."
   ]
  },
  {
   "cell_type": "code",
   "execution_count": 5,
   "metadata": {},
   "outputs": [
    {
     "name": "stdout",
     "output_type": "stream",
     "text": [
      "Celcius (C/c) or Kelvin (K/k)?\n"
     ]
    },
    {
     "name": "stdin",
     "output_type": "stream",
     "text": [
      " c\n"
     ]
    },
    {
     "name": "stdout",
     "output_type": "stream",
     "text": [
      "Converting Celcius\n"
     ]
    },
    {
     "name": "stdin",
     "output_type": "stream",
     "text": [
      "Temp:  6901\n"
     ]
    },
    {
     "name": "stdout",
     "output_type": "stream",
     "text": [
      "Converted Temp: \n"
     ]
    },
    {
     "data": {
      "text/plain": [
       "12453.8"
      ]
     },
     "execution_count": 5,
     "metadata": {},
     "output_type": "execute_result"
    }
   ],
   "source": [
    "def fahrenheit(): # \n",
    "    \n",
    "    \"\"\" Convert to Farenheit \"\"\"\n",
    "      \n",
    "    print(\"Celcius (C/c) or Kelvin (K/k)?\")\n",
    "    \n",
    "    #converterCKF = ()\n",
    "    \n",
    "    pick = input().capitalize()\n",
    "    \n",
    "    if pick == \"C\":     # I wanted to practice function calling. I had to repeatedly change things so they all make sense\n",
    "        \n",
    "        return (round(celcius2Kelvin() * (9/5) - 459.67, 4))  \n",
    "        \n",
    "    elif pick == \"K\":\n",
    "        \n",
    "        return (round(kelvin2Celcius() * (9/5) + 32, 4)) \n",
    "    \n",
    "    #return pick\n",
    "\n",
    "fahrenheit()"
   ]
  },
  {
   "cell_type": "markdown",
   "metadata": {},
   "source": [
    "### 3) Check that the outputs are sensible\n",
    "\n",
    "by trying a few examples"
   ]
  },
  {
   "cell_type": "code",
   "execution_count": 6,
   "metadata": {
    "tags": []
   },
   "outputs": [
    {
     "name": "stdout",
     "output_type": "stream",
     "text": [
      "Converting Celcius\n"
     ]
    },
    {
     "name": "stdin",
     "output_type": "stream",
     "text": [
      "Temp:  6\n"
     ]
    },
    {
     "name": "stdout",
     "output_type": "stream",
     "text": [
      "Converted Temp: \n"
     ]
    },
    {
     "data": {
      "text/plain": [
       "279.15"
      ]
     },
     "execution_count": 6,
     "metadata": {},
     "output_type": "execute_result"
    }
   ],
   "source": [
    "# \"\"\" Celcius to Kelvin \"\"\"\n",
    "\n",
    "celcius2Kelvin()"
   ]
  },
  {
   "cell_type": "code",
   "execution_count": 7,
   "metadata": {
    "tags": []
   },
   "outputs": [
    {
     "name": "stdout",
     "output_type": "stream",
     "text": [
      "Converting Kelvins\n"
     ]
    },
    {
     "name": "stdin",
     "output_type": "stream",
     "text": [
      "Temp:  9\n"
     ]
    },
    {
     "name": "stdout",
     "output_type": "stream",
     "text": [
      "Converted Temp: \n"
     ]
    },
    {
     "data": {
      "text/plain": [
       "-264.15"
      ]
     },
     "execution_count": 7,
     "metadata": {},
     "output_type": "execute_result"
    }
   ],
   "source": [
    "# \"\"\" Kelvin to Celcius \"\"\"\n",
    "\n",
    "kelvin2Celcius()"
   ]
  },
  {
   "cell_type": "code",
   "execution_count": 8,
   "metadata": {
    "tags": []
   },
   "outputs": [
    {
     "name": "stdout",
     "output_type": "stream",
     "text": [
      "Celcius (C/c) or Kelvin (K/k)?\n"
     ]
    },
    {
     "name": "stdin",
     "output_type": "stream",
     "text": [
      " c\n"
     ]
    },
    {
     "name": "stdout",
     "output_type": "stream",
     "text": [
      "Converting Celcius\n"
     ]
    },
    {
     "name": "stdin",
     "output_type": "stream",
     "text": [
      "Temp:  0\n"
     ]
    },
    {
     "name": "stdout",
     "output_type": "stream",
     "text": [
      "Converted Temp: \n"
     ]
    },
    {
     "data": {
      "text/plain": [
       "32.0"
      ]
     },
     "execution_count": 8,
     "metadata": {},
     "output_type": "execute_result"
    }
   ],
   "source": [
    "# \"\"\" Fahrenheit  \"\"\"\n",
    "\n",
    "# c\n",
    "\n",
    "fahrenheit()"
   ]
  },
  {
   "cell_type": "code",
   "execution_count": 9,
   "metadata": {
    "tags": []
   },
   "outputs": [
    {
     "name": "stdout",
     "output_type": "stream",
     "text": [
      "Celcius (C/c) or Kelvin (K/k)?\n"
     ]
    },
    {
     "name": "stdin",
     "output_type": "stream",
     "text": [
      " k\n"
     ]
    },
    {
     "name": "stdout",
     "output_type": "stream",
     "text": [
      "Converting Kelvins\n"
     ]
    },
    {
     "name": "stdin",
     "output_type": "stream",
     "text": [
      "Temp:  1\n"
     ]
    },
    {
     "name": "stdout",
     "output_type": "stream",
     "text": [
      "Converted Temp: \n"
     ]
    },
    {
     "data": {
      "text/plain": [
       "-457.87"
      ]
     },
     "execution_count": 9,
     "metadata": {},
     "output_type": "execute_result"
    }
   ],
   "source": [
    "# \"\"\" Fahrenheit  \"\"\"\n",
    "\n",
    "# K\n",
    "\n",
    "fahrenheit()"
   ]
  },
  {
   "cell_type": "markdown",
   "metadata": {},
   "source": [
    "### 4) Now write a function that converts _from_ farenheit\n",
    "\n",
    "and uses a keyword argument to specify whether you want the output in celcius or kelvin"
   ]
  },
  {
   "cell_type": "code",
   "execution_count": 10,
   "metadata": {},
   "outputs": [
    {
     "name": "stdout",
     "output_type": "stream",
     "text": [
      "Temperature\n"
     ]
    },
    {
     "name": "stdin",
     "output_type": "stream",
     "text": [
      "Fahrenheit:  6901\n"
     ]
    },
    {
     "name": "stdout",
     "output_type": "stream",
     "text": [
      "Celcius (C/c) or Kelvin (K/k)?\n"
     ]
    },
    {
     "name": "stdin",
     "output_type": "stream",
     "text": [
      " c\n"
     ]
    },
    {
     "data": {
      "text/plain": [
       "3816.111"
      ]
     },
     "execution_count": 10,
     "metadata": {},
     "output_type": "execute_result"
    }
   ],
   "source": [
    "def fromF(): # I really wanted to call the fahrenheit function on this one, but it was difficult to do it with inputs and the prior print statements\n",
    "    \n",
    "    \"\"\" Fahrenheit to Kelvin or Celcius \"\"\"\n",
    "    \n",
    "    print(\"Temperature\")\n",
    "    \n",
    "    f = float(input(f\"Fahrenheit: \"))\n",
    "    \n",
    "    print(\"Celcius (C/c) or Kelvin (K/k)?\")\n",
    "    pick = input().capitalize()\n",
    "    \n",
    "    if pick == \"C\":\n",
    "        \n",
    "        return round(((f - 32) * (5/9)), 3)\n",
    "        \n",
    "    elif pick == \"K\":\n",
    "        \n",
    "        return  round(((f - 32) * (5/9) + 273.15), 3)\n",
    "    \n",
    "fromF()"
   ]
  },
  {
   "cell_type": "markdown",
   "metadata": {},
   "source": [
    "### 5) Write a function that takes two arguments (feet and inches) and returns height in meters\n",
    "\n",
    "Verify it gives sensible answers"
   ]
  },
  {
   "cell_type": "code",
   "execution_count": 11,
   "metadata": {},
   "outputs": [
    {
     "name": "stdin",
     "output_type": "stream",
     "text": [
      "Feet:  6901\n",
      "Inches:  9\n"
     ]
    },
    {
     "name": "stdout",
     "output_type": "stream",
     "text": [
      "Feet to Inches:  82812.0\n",
      "Total Inches:  82821.0\n",
      "Meters: \n"
     ]
    },
    {
     "data": {
      "text/plain": [
       "2103.658"
      ]
     },
     "execution_count": 11,
     "metadata": {},
     "output_type": "execute_result"
    }
   ],
   "source": [
    "def heightLine(ft = float(input(f\"Feet: \")), iN = float(input(f\"Inches: \"))):\n",
    "    \n",
    "    \"\"\" Feet and Inches to Height in Meters \"\"\"\n",
    "\n",
    "    ft1 = float((12) * ft)\n",
    "    \n",
    "    ft2 = float(ft1 + iN)\n",
    "    \n",
    "    m1 = round(float((ft2/39.37)), 3)\n",
    "    \n",
    "    #print(f\"Feet \",ft)\n",
    "    #print(f\"Inches\", iN)\n",
    "    print(f\"Feet to Inches: \", ft1)\n",
    "    print(f\"Total Inches: \", ft2)\n",
    "    print(f\"Meters: \")\n",
    "    return m1\n",
    "\n",
    "heightLine()"
   ]
  },
  {
   "cell_type": "code",
   "execution_count": 12,
   "metadata": {},
   "outputs": [
    {
     "name": "stdout",
     "output_type": "stream",
     "text": [
      "Feet to Inches:  828.0\n",
      "Total Inches:  829.0\n",
      "Meters: \n"
     ]
    },
    {
     "data": {
      "text/plain": [
       "21.057"
      ]
     },
     "execution_count": 12,
     "metadata": {},
     "output_type": "execute_result"
    }
   ],
   "source": [
    "heightLine(69, 1)"
   ]
  },
  {
   "cell_type": "markdown",
   "metadata": {},
   "source": [
    "### 6. Write a function takes one argument (height in meters) and returns two arguments (feet and inches)\n",
    "\n",
    "(Consult the [tutorial on numbers](https://docs.python.org/3/tutorial/introduction.html#numbers) if you are stuck on how to implement this.)"
   ]
  },
  {
   "cell_type": "code",
   "execution_count": 13,
   "metadata": {},
   "outputs": [
    {
     "name": "stdin",
     "output_type": "stream",
     "text": [
      "Height in Meters:  6901\n"
     ]
    },
    {
     "data": {
      "text/plain": [
       "'Feet: 22641  |  Inches: 0.37'"
      ]
     },
     "execution_count": 13,
     "metadata": {},
     "output_type": "execute_result"
    }
   ],
   "source": [
    "def heightM(meter = int(input(f\"Height in Meters: \"))):\n",
    "    \n",
    "    \"\"\" Height in Meters to feet and inches \"\"\"\n",
    "\n",
    "    tInches = float((39.37) * meter) # convert meters to inches\n",
    "    \n",
    "    ftInches = float(tInches/(12)) # convert inches to ft\n",
    "    \n",
    "    ftX = (int(ftInches) * 12) # inches divisible by whole feet/ no remainder\n",
    "    \n",
    "    ftY = round((tInches - ftX), 3) # remaining inches\n",
    "    \n",
    "    ftZ = int((ftX/(12))) # ft only\n",
    "    \n",
    "    convFI = (f\"Feet: {ftZ}  |  Inches: {ftY}\")\n",
    "    \n",
    "    #print(\"TESTING\", ftX)  \n",
    "    #print(\"TWO\", ftY) \n",
    "    #print(\"TTT\", ftZ)\n",
    "    \n",
    "    #print(f\"Total Inches: \", tInches)\n",
    "    #print(f\"Inches to Feet: \", round(ftInches, 2))\n",
    "\n",
    "    return convFI\n",
    "\n",
    "heightM()"
   ]
  },
  {
   "cell_type": "markdown",
   "metadata": {
    "tags": []
   },
   "source": [
    "### 7) Verify that the \"round trip\" conversion from and back to meters is consistent \n",
    "\n",
    "Check for 3 different values of height in meters"
   ]
  },
  {
   "cell_type": "code",
   "execution_count": 15,
   "metadata": {},
   "outputs": [
    {
     "data": {
      "text/plain": [
       "'Feet: 6  |  Inches: 6.74'"
      ]
     },
     "execution_count": 15,
     "metadata": {},
     "output_type": "execute_result"
    }
   ],
   "source": [
    "heightM(2)"
   ]
  },
  {
   "cell_type": "code",
   "execution_count": 16,
   "metadata": {},
   "outputs": [
    {
     "data": {
      "text/plain": [
       "'Feet: 0  |  Inches: 0.0'"
      ]
     },
     "execution_count": 16,
     "metadata": {},
     "output_type": "execute_result"
    }
   ],
   "source": [
    "heightM(0)"
   ]
  },
  {
   "cell_type": "code",
   "execution_count": 17,
   "metadata": {},
   "outputs": [
    {
     "data": {
      "text/plain": [
       "'Feet: 68  |  Inches: 10.77'"
      ]
     },
     "execution_count": 17,
     "metadata": {},
     "output_type": "execute_result"
    }
   ],
   "source": [
    "heightM(21)"
   ]
  },
  {
   "cell_type": "code",
   "execution_count": null,
   "metadata": {},
   "outputs": [],
   "source": []
  }
 ],
 "metadata": {
  "kernelspec": {
   "display_name": "Python 3 (ipykernel)",
   "language": "python",
   "name": "python3"
  },
  "language_info": {
   "codemirror_mode": {
    "name": "ipython",
    "version": 3
   },
   "file_extension": ".py",
   "mimetype": "text/x-python",
   "name": "python",
   "nbconvert_exporter": "python",
   "pygments_lexer": "ipython3",
   "version": "3.8.10"
  }
 },
 "nbformat": 4,
 "nbformat_minor": 4
}
