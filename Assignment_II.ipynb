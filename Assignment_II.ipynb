{
 "cells": [
  {
   "cell_type": "code",
   "execution_count": 1,
   "id": "893b68d9-a509-4a6d-86e9-388f7a5c970f",
   "metadata": {},
   "outputs": [
    {
     "name": "stdout",
     "output_type": "stream",
     "text": [
      "['Mercury', 'Venus', 'Earth', 'Mars', 'Jupiter', 'Saturn', 'Uranus', 'Neptune', 'Not Pluto :(']\n"
     ]
    }
   ],
   "source": [
    "# ******* Assignment II: Basic Python *******\n",
    "\n",
    "\n",
    "\n",
    "# ******************** PART I: lISTS AND LOOPS ********************\n",
    "\n",
    "# ******************* ( 1 ) LIST\n",
    "\n",
    "#theSolarSystem = [\"Mercury\", \"Venus\", \"Earth\", \"Mars\", \"Jupiter\", \"Saturn\", \"Uranus\", \"Neptune\", \"NOT Pluto :( \"] # Distance from Sun ordered list\n",
    "\n",
    "one = \"mercury\"\n",
    "two = \"venus\"\n",
    "three = \"earth\"\n",
    "four = \"mars\"\n",
    "five = \"jupiter\"\n",
    "six = \"saturn\"\n",
    "seven = \"uranus\"\n",
    "eight = \"neptune\"\n",
    "goodbye = \"not pluto :(\"\n",
    "\n",
    "#theSolarSystem = [one, two, three, four, five, six, seven, eight, goodbye]\n",
    "\n",
    "theSolarSystem = []\n",
    "\n",
    "theSolarSystem.insert(0, one)\n",
    "theSolarSystem.insert(1, two)\n",
    "theSolarSystem.insert(2, three)\n",
    "theSolarSystem.insert(3, four)\n",
    "theSolarSystem.append(five)\n",
    "theSolarSystem.append(six)\n",
    "theSolarSystem.append(seven)\n",
    "theSolarSystem.append(eight)\n",
    "theSolarSystem.append(goodbye)\n",
    "\n",
    "planets = [p.title() for p in theSolarSystem]\n",
    "\n",
    "#planets = 8\n",
    "#while planets < len(theSolarSystem):\n",
    "    \n",
    "#    theSolarSystem = theSolarSystem[planets]\n",
    "#theSolarSystem.insert()\n",
    "#    print(theSolarSystem) \n",
    "#    planets += 1\n",
    "    \n",
    "#print(theSolarSystem)\n",
    "\n",
    "print(planets)  \n",
    "\n",
    "#print(type(planets))\n",
    "    \n",
    "#index = theSolarSystem.index(\"Mercury\")\n",
    "#print(index)\n",
    "\n",
    "#theSolarSystem.sort()\n",
    "\n",
    "#print(theSolarSystem)"
   ]
  },
  {
   "cell_type": "code",
   "execution_count": 2,
   "id": "a69f0ec9-42ee-47e5-b7b6-c20915d8f87b",
   "metadata": {},
   "outputs": [
    {
     "name": "stdout",
     "output_type": "stream",
     "text": [
      "There are a total of 8 planets in the Solar System.\n"
     ]
    }
   ],
   "source": [
    "# ******************* ( 2 ) LENGTH\n",
    "\n",
    "system = len(planets[: -1])\n",
    "numPlan = \"There are a total of \" + str(system) + \" planets in the Solar System.\"\n",
    "print(numPlan)\n",
    "#print(type(planets))\n",
    "#print(type(system))\n",
    "#print(type(numPlan))"
   ]
  },
  {
   "cell_type": "code",
   "execution_count": 3,
   "id": "b129515e-38c0-4a91-8880-5a595f80e1a5",
   "metadata": {},
   "outputs": [
    {
     "name": "stdout",
     "output_type": "stream",
     "text": [
      "The rocky planets are: Mercury, Venus, Earth, Mars\n"
     ]
    }
   ],
   "source": [
    "# ******************* ( 3 ) SLICE\n",
    "\n",
    "slicedRocks = slice(0,4,1)\n",
    "rocks = planets[slicedRocks]\n",
    "\n",
    "print(\"The rocky planets are: \" + (', '.join(rocks))) \n",
    "\n",
    "#print(\"The rocky planets are: \" + str(rocks).lstrip('[').rstrip(']'))\n",
    "\n"
   ]
  },
  {
   "cell_type": "code",
   "execution_count": 4,
   "id": "8f62ff02-f61e-4b02-86fe-367726b3a3c6",
   "metadata": {},
   "outputs": [
    {
     "name": "stdout",
     "output_type": "stream",
     "text": [
      "The planets that end with 's' are: Venus, Mars, Uranus\n"
     ]
    }
   ],
   "source": [
    "# ******************* ( 4 ) ITERATRION\n",
    "#str(\"s\") in planets \n",
    "#for p in planets:\n",
    "#    print(p)\n",
    "    \n",
    "real = planets[: -1]\n",
    "\n",
    "#############################################################\n",
    "#count = 0\n",
    "#while count < len(real):\n",
    "\n",
    "#    for p in real:\n",
    "    \n",
    "#        if p[-1 :] != \"s\":\n",
    "#            planets.remove(p)\n",
    "\n",
    "    #print(p)            \n",
    "    #print(\"The planets that end with 's' are: \" + str([p]))\n",
    "#    count += 1\n",
    "    \n",
    "#print(\"The planets that end with 's' are: \" + p)\n",
    "############################################################   \n",
    "\n",
    "#for p in real:\n",
    "    \n",
    "#        if p[-1 :] != \"s\":\n",
    "#            planets.remove(p)\n",
    "\n",
    "#        print(\"The planets that end with 's' are: \" + p)\n",
    "        \n",
    "planet_S = []       \n",
    "for p in real:\n",
    "    \n",
    "        if p[-1 :] == \"s\":\n",
    "            #pl = []\n",
    "            planet_S.append(p)\n",
    "#        else:\n",
    "#            planets.remove(p)\n",
    "\n",
    "print(\"The planets that end with 's' are: \" + str(', '.join(planet_S))) #.lstrip('[').rstrip(']'))"
   ]
  },
  {
   "cell_type": "code",
   "execution_count": 5,
   "id": "30ac111a-cee5-4e89-8a23-a25520641528",
   "metadata": {},
   "outputs": [
    {
     "name": "stdout",
     "output_type": "stream",
     "text": [
      "'Mercury': 0.33, 'Venus': 4.87, 'Earth': 5.97, 'Mars': 0.642, 'Jupiter': 1898, 'Saturn': 568, 'Uranus': 86.8, 'Neptune': 102, 'Not Pluto :(': 0.0146\n"
     ]
    }
   ],
   "source": [
    "# ******************** PART II: DICTIONARIES ********************\n",
    "\n",
    "# ******************* ( 1 ) LOOK UP\n",
    "\n",
    "# https://nssdc.gsfc.nasa.gov/planetary/factsheet/\n",
    "# Reference: https://careerkarma.com/blog/python-convert-list-to-dictionary/\n",
    "\n",
    "#print(planets)\n",
    "\n",
    "solarMass = [0.330, 4.87, 5.97, 0.642, 1898, 568, 86.8, 102, 0.0146]\n",
    "\n",
    "#planetMass = dict(Planet = planets, Mass = 5)\n",
    "\n",
    "#for p1, m2 in zip(planets, solarMass):\n",
    "#    print(\"Planet: \", p1, \"      Mass: \", m2)\n",
    "    \n",
    "    \n",
    "planetToMass = dict(zip(planets, solarMass))\n",
    "print(str(planetToMass).lstrip('{').rstrip('}'))"
   ]
  },
  {
   "cell_type": "code",
   "execution_count": 6,
   "id": "65aa10e3-e8ec-4761-a797-63cf74f1411e",
   "metadata": {},
   "outputs": [
    {
     "name": "stdout",
     "output_type": "stream",
     "text": [
      "Search a planet's mass:\n"
     ]
    },
    {
     "name": "stdin",
     "output_type": "stream",
     "text": [
      " earth\n"
     ]
    },
    {
     "name": "stdout",
     "output_type": "stream",
     "text": [
      "The mass of Earth is 5.97 x 10^24 kg\n"
     ]
    }
   ],
   "source": [
    "# ******************* ( 2 ) EARTH MASS\n",
    "\n",
    "#for key, val in planetToMass.items():\n",
    "#print(planetToMass['Earth'])\n",
    "\n",
    "# try catch\n",
    "# while true\n",
    "\n",
    "print(\"Search a planet's mass:\")\n",
    "\n",
    "c = input().capitalize()\n",
    "\n",
    "earthCheck = planetToMass[c]\n",
    "\n",
    "print(\"The mass of \" + c + \" is \" + str(earthCheck) + \" x 10^24 kg\")\n",
    "    "
   ]
  },
  {
   "cell_type": "code",
   "execution_count": 7,
   "id": "ba465ff3-7dff-4129-aa12-9174f0bf5ba9",
   "metadata": {},
   "outputs": [
    {
     "name": "stdout",
     "output_type": "stream",
     "text": [
      "Planets with mass > 100 x 10^24 kg: \n",
      "Jupiter :  1898  x 10^24 kg\n",
      "Saturn :  568  x 10^24 kg\n",
      "Neptune :  102  x 10^24 kg\n"
     ]
    }
   ],
   "source": [
    "# ******************* ( 3 ) MASS > 100 X 10^24 kg\n",
    "\n",
    "#masses = []\n",
    "\n",
    "print(\"Planets with mass > 100 x 10^24 kg: \")\n",
    "\n",
    "for key, val in planetToMass.items():   \n",
    "    \n",
    "    if val >= 100:         \n",
    "        \n",
    "        print(key, \": \", val,\" x 10^24 kg\")\n",
    "        \n",
    "        #masses.append(val)\n",
    "   # elif key \n",
    "        \n",
    "#print(masses)\n",
    "\n",
    "#pmPairs = list(planetToMass.items())\n",
    "#print(pmPairs[2])\n",
    "\n"
   ]
  },
  {
   "cell_type": "code",
   "execution_count": 39,
   "id": "d970bf73-fa7e-4d99-ac9c-bd491a876cfe",
   "metadata": {},
   "outputs": [
    {
     "name": "stdout",
     "output_type": "stream",
     "text": [
      "{'Mercury': 0.33, 'Venus': 4.87, 'Earth': 5.97, 'Mars': 0.642, 'Jupiter': 1898, 'Saturn': 568, 'Uranus': 86.8, 'Neptune': 102, 'Pluto': 0.0146}\n"
     ]
    }
   ],
   "source": [
    "# ******************* ( 4 ) PLUTO\n",
    "\n",
    "newPlanets = [\"Mercury\", \"Venus\", \"Earth\", \"Mars\", \"Jupiter\", \"Saturn\", \"Uranus\", \"Neptune\"]\n",
    "newMass = [0.330, 4.87, 5.97, 0.642, 1898, 568, 86.8, 102]\n",
    "     \n",
    "    \n",
    "#for p1, m2 in zip(newPlanets, newMass):\n",
    "    \n",
    "#    print(\"Planet: \", p1, \"    Mass: \", m2, \"x 10^24 kg\")\n",
    "    \n",
    "#    p1[\"TESTER\"] = 5\n",
    "    \n",
    "xMass = dict(zip(newPlanets, newMass))\n",
    "xMass[\"Pluto\"] = 0.0146\n",
    "\n",
    "#print(str(xMass).lstrip('{').rstrip('}'))\n",
    "\n",
    "print(xMass)\n"
   ]
  },
  {
   "cell_type": "code",
   "execution_count": 40,
   "id": "0717972e-5790-4f20-a776-e374f1ea9619",
   "metadata": {},
   "outputs": [
    {
     "ename": "NameError",
     "evalue": "name 'k2c' is not defined",
     "output_type": "error",
     "traceback": [
      "\u001b[0;31m---------------------------------------------------------------------------\u001b[0m",
      "\u001b[0;31mNameError\u001b[0m                                 Traceback (most recent call last)",
      "\u001b[0;32m/tmp/ipykernel_712/1948166272.py\u001b[0m in \u001b[0;36m<module>\u001b[0;34m\u001b[0m\n\u001b[1;32m      6\u001b[0m     \u001b[0mconversion\u001b[0m \u001b[0;34m=\u001b[0m \u001b[0mtempConverter\u001b[0m\u001b[0;34m(\u001b[0m\u001b[0;34m)\u001b[0m\u001b[0;34m\u001b[0m\u001b[0;34m\u001b[0m\u001b[0m\n\u001b[1;32m      7\u001b[0m \u001b[0;34m\u001b[0m\u001b[0m\n\u001b[0;32m----> 8\u001b[0;31m \u001b[0mk2c\u001b[0m \u001b[0;34m=\u001b[0m \u001b[0mk2c\u001b[0m \u001b[0;34m-\u001b[0m \u001b[0;36m273.15\u001b[0m\u001b[0;34m\u001b[0m\u001b[0;34m\u001b[0m\u001b[0m\n\u001b[0m\u001b[1;32m      9\u001b[0m \u001b[0mc2k\u001b[0m \u001b[0;34m=\u001b[0m \u001b[0mc2k\u001b[0m \u001b[0;34m+\u001b[0m \u001b[0;36m273.15\u001b[0m\u001b[0;34m\u001b[0m\u001b[0;34m\u001b[0m\u001b[0m\n",
      "\u001b[0;31mNameError\u001b[0m: name 'k2c' is not defined"
     ]
    }
   ],
   "source": [
    "# ******************** PART III: FUNCTIONS ********************\n",
    "\n",
    "# ******************* ( 1 ) LIST\n",
    "def tempConverter(n): # *** CALL ***  tempConverter()\n",
    "\n",
    "    conversion = tempConverter()\n",
    "    \n",
    "k2c = k2c - 273.15\n",
    "c2k = c2k + 273.15"
   ]
  },
  {
   "cell_type": "code",
   "execution_count": null,
   "id": "90c5fede-2c5d-4ef5-b83f-0ea226159859",
   "metadata": {},
   "outputs": [],
   "source": []
  }
 ],
 "metadata": {
  "kernelspec": {
   "display_name": "Python 3 (ipykernel)",
   "language": "python",
   "name": "python3"
  },
  "language_info": {
   "codemirror_mode": {
    "name": "ipython",
    "version": 3
   },
   "file_extension": ".py",
   "mimetype": "text/x-python",
   "name": "python",
   "nbconvert_exporter": "python",
   "pygments_lexer": "ipython3",
   "version": "3.8.10"
  }
 },
 "nbformat": 4,
 "nbformat_minor": 5
}
